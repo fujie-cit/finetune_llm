{
 "cells": [
  {
   "cell_type": "code",
   "execution_count": 1,
   "metadata": {},
   "outputs": [],
   "source": [
    "# JSONフォーマットのデータの読み込み\n",
    "import json\n",
    "\n",
    "json_path='/autofs/diamond2/share/users/fujie/share/twitterJSA_data.json'\n",
    "data_raw = json.load(open(json_path))"
   ]
  },
  {
   "cell_type": "code",
   "execution_count": 2,
   "metadata": {},
   "outputs": [
    {
     "name": "stdout",
     "output_type": "stream",
     "text": [
      "534962\n"
     ]
    }
   ],
   "source": [
    "# データの数を確認\n",
    "print(len(data_raw))"
   ]
  },
  {
   "cell_type": "code",
   "execution_count": 3,
   "metadata": {},
   "outputs": [
    {
     "name": "stdout",
     "output_type": "stream",
     "text": [
      "dict_keys(['id', 'topic', 'status', 'label', 'text'])\n"
     ]
    }
   ],
   "source": [
    "# データのキーを確認\n",
    "print(data_raw[0].keys())"
   ]
  },
  {
   "cell_type": "code",
   "execution_count": 4,
   "metadata": {},
   "outputs": [],
   "source": [
    "# id はツイートのID\n",
    "# topic はトピックID\n",
    "#   10000: エクスペリア，Xperia\n",
    "#   10001: アクオス，Aquos\n",
    "#   10002: アクオス，Aquos\n",
    "#   10020: ココロボ（シャープが開発した自動掃除機）\n",
    "#   10021: iPhone\n",
    "#   10022: パナソニック，Panasonic\n",
    "#   10024: コンビニにあるコピー機\n",
    "#   10025: ルンバ，Rommba\n",
    "#   10026: シャープ\n",
    "# label はタグ付けされたラベル\n",
    "#   1列目: ポジティブ&ネガティブ，このツイートは（ジャンル）についてポジティブなこともネガティブなことも書かれている\n",
    "#   2列目: ポジティブ，このツイートは（ジャンル）についてポジティブなことが書かれている\n",
    "#   3列目: ネガティブ，このツイートは（ジャンル）についてネガティブなことが書かれている\n",
    "#   4列目: ニュートラル，このツイートは（ジャンル）についてポジティブなこともネガティブなことも書かれていない\n",
    "#   5列目: 無関係，このツイートは（ジャンル）に関係が無い\n",
    "#  0は該当しない，1は該当するという意味です．  \n",
    "#  二つの列で該当するというのは，作業者の投票が同率で1位になった場合です．\n",
    "# text はツイートの本文"
   ]
  },
  {
   "cell_type": "code",
   "execution_count": 5,
   "metadata": {},
   "outputs": [],
   "source": [
    "# ツイートの本文が無い，または本文の長さが0のときには，データから除外する\n",
    "data = []\n",
    "for d in data_raw:\n",
    "    if 'text' in d and len(d['text']) > 0:\n",
    "        data.append(d)"
   ]
  },
  {
   "cell_type": "code",
   "execution_count": 6,
   "metadata": {},
   "outputs": [
    {
     "name": "stdout",
     "output_type": "stream",
     "text": [
      "304157\n"
     ]
    }
   ],
   "source": [
    "# フィルタされたデータの数を確認\n",
    "print(len(data))"
   ]
  },
  {
   "cell_type": "code",
   "execution_count": 7,
   "metadata": {},
   "outputs": [],
   "source": [
    "# ラベルの決定\n",
    "#   ポジティブ&ネガティブが 1，もしくは，ポジティブとネガティブが両方1のものは positive and negative\n",
    "#   ポジティブが 1 のものは positive\n",
    "#   ネガティブが 1 のものは negative\n",
    "#   ニュートラルが 1 のものは neutral\n",
    "#   その他は unrelated\n",
    "# とする\n",
    "for d in data:\n",
    "    label = d['label']\n",
    "    output = 'unrelated'\n",
    "    if label[0] == 1 or (label[1] == 1 and label[2] == 1):\n",
    "        output = 'positive and negative'\n",
    "    elif label[1] == 1:\n",
    "        output = 'positive'\n",
    "    elif label[2] == 1:\n",
    "        output = 'negative'\n",
    "    elif label[3] == 1:\n",
    "        output = 'neutral'\n",
    "    d['output'] = output"
   ]
  },
  {
   "cell_type": "code",
   "execution_count": 8,
   "metadata": {},
   "outputs": [],
   "source": [
    "# 'label' というキーがあると悪さするのでlabel_に変える\n",
    "for d in data:\n",
    "    d['label_'] = d['label']\n",
    "    del d['label']"
   ]
  },
  {
   "cell_type": "code",
   "execution_count": 9,
   "metadata": {},
   "outputs": [],
   "source": [
    "from datasets import Dataset\n",
    "import pandas as pd\n",
    "df_data_all = pd.DataFrame(data)\n",
    "dataset_all = Dataset.from_pandas(df_data_all)"
   ]
  },
  {
   "cell_type": "code",
   "execution_count": 10,
   "metadata": {},
   "outputs": [
    {
     "data": {
      "application/vnd.jupyter.widget-view+json": {
       "model_id": "95b4bfc6a4a147efb121270a1571c730",
       "version_major": 2,
       "version_minor": 0
      },
      "text/plain": [
       "Saving the dataset (0/1 shards):   0%|          | 0/304157 [00:00<?, ? examples/s]"
      ]
     },
     "metadata": {},
     "output_type": "display_data"
    }
   ],
   "source": [
    "dataset_all.save_to_disk('dataset_all')"
   ]
  }
 ],
 "metadata": {
  "kernelspec": {
   "display_name": "py39",
   "language": "python",
   "name": "python3"
  },
  "language_info": {
   "codemirror_mode": {
    "name": "ipython",
    "version": 3
   },
   "file_extension": ".py",
   "mimetype": "text/x-python",
   "name": "python",
   "nbconvert_exporter": "python",
   "pygments_lexer": "ipython3",
   "version": "3.9.16"
  },
  "orig_nbformat": 4
 },
 "nbformat": 4,
 "nbformat_minor": 2
}

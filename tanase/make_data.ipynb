{
 "cells": [
  {
   "cell_type": "code",
   "execution_count": 2,
   "metadata": {},
   "outputs": [],
   "source": [
    "import glob\n",
    "import pandas as pd"
   ]
  },
  {
   "cell_type": "code",
   "execution_count": 3,
   "metadata": {},
   "outputs": [],
   "source": [
    "def modify_dataframe(df, subject_id, rel, pol, conv_num):\n",
    "    \"\"\"データフレームを整形する\n",
    "\n",
    "    Args:\n",
    "        df (pd.DataFrame): データフレーム\n",
    "        subject_id (int): 被験者ID\n",
    "        rel (str): 関係条件\n",
    "        pol (str): 口調条件\n",
    "    \"\"\"\n",
    "    # dfから\"内容\"列がNoneの行を削除\n",
    "    df = df.dropna(subset=['内容'])\n",
    "    # dfに新たに\"添削\"列を追加する．値は全て NaN でOK．\n",
    "    df = df.copy()\n",
    "    df['添削'] = None\n",
    "    df['添削']= df['添削'].astype(str)\n",
    "\n",
    "    # つづけて，\"発話\"列が\"S\"の行について，\n",
    "    # \"添削③\"，\"添削②\", \"添削①\", \"内容\"の優先順位で，Nullでない最初の値を代入\n",
    "    for i, row in df.iterrows():\n",
    "        if row['発話'] == 'S':\n",
    "            if not pd.isna(row[f'添削③']):\n",
    "                df.loc[i, '添削'] = row[f'添削③']\n",
    "            elif not pd.isna(row[f'添削②']):\n",
    "                df.loc[i, '添削'] = row[f'添削②']\n",
    "            elif not pd.isna(row[f'添削①']):\n",
    "                df.loc[i, '添削'] = row[f'添削①']\n",
    "            else:\n",
    "                df.loc[i, '添削'] = row['内容']\n",
    "    # dfに\"subject_id\", \"rel\", \"pol\"列を追加し，値を代入\n",
    "    df['被験者ID'] = subject_id\n",
    "    df['関係条件'] = rel\n",
    "    df['口調条件'] = pol\n",
    "    df['会話ID'] = f\"{subject_id}_{rel}_{pol}_{conv_num}\"\n",
    "    # dfに\"発話ID\"列を追加し，通し番号（0が最初）をつける\n",
    "    df['発話ID'] = range(len(df))\n",
    "    # dfの0列目は削除する\n",
    "    df = df.drop(df.columns[0], axis=1)\n",
    "    # \"発話\"列の列名を\"話者\"にする\n",
    "    df = df.rename(columns={'発話': '話者'})\n",
    "    # 列の順番を以下のように変更する\n",
    "    #   被験者ID, 関係条件, 口調条件, 発話ID, 話者, 内容, 添削, OK ?，添削①，添削②，添削③\n",
    "    df = df[['被験者ID', '関係条件', '口調条件', '会話ID', '発話ID', '話者', '内容', '添削', 'OK ?', '添削①', '添削②', '添削③']]\n",
    "    # df\n",
    "    return df"
   ]
  },
  {
   "cell_type": "code",
   "execution_count": 4,
   "metadata": {},
   "outputs": [],
   "source": [
    "def process_excel(filepath):\n",
    "    \"\"\"エクセルファイルを整形する\n",
    "\n",
    "    Args:\n",
    "        filepath (str): エクセルファイルのパス\n",
    "\n",
    "    Returns:\n",
    "        pd.DataFrame: 整形されたデータフレーム（2つ）\n",
    "    \"\"\"\n",
    "\n",
    "    # filepathのbasenameは例えば \"D-6_先輩-後輩_敬語.xlsx\" となっている\n",
    "    # このうち，D-6 を subject_id\n",
    "    # 先輩-後輩 を rel\n",
    "    # 敬語 を pol として取り出す\n",
    "    subject_id, rel, pol = filepath.split('/')[-1].split('_')[:3]\n",
    "    rel = rel[:2] + \"-\" + rel[3:]\n",
    "    pol = pol.split('.')[0]\n",
    "    # print(rel)\n",
    "\n",
    "    # validation check\n",
    "    assert subject_id[0] in ('A', 'B', 'C', 'D')\n",
    "    assert subject_id[1] == '-'\n",
    "    assert subject_id[2].isdigit()\n",
    "    assert rel in ('先輩-後輩', '先生-生徒')\n",
    "    assert pol in ('敬語', 'タメ口')\n",
    "    \n",
    "    df = pd.read_excel(filepath, index_col=None)\n",
    "    idx = df[df['内容'] == '内容'].index[0]\n",
    "    df1 = df.iloc[:idx]\n",
    "    df2 = df.iloc[idx+1:]\n",
    "\n",
    "    df1 = modify_dataframe(df1, subject_id, rel, pol, 1)\n",
    "    df2 = modify_dataframe(df2, subject_id, rel, pol, 2)\n",
    "    \n",
    "    return df1, df2"
   ]
  },
  {
   "cell_type": "code",
   "execution_count": 5,
   "metadata": {},
   "outputs": [],
   "source": [
    "filepaths = sorted(glob.glob('data/*/*.xlsx'))\n",
    "dfs = []\n",
    "for filepath in filepaths:\n",
    "    # print(filepath)\n",
    "\n",
    "    # データ不備により除外（訂正後解除）\n",
    "    if \"B-6_先生―生徒_タメ口.xlsx\" in filepath:\n",
    "        continue\n",
    "    if \"C-3_先生―生徒_タメ口.xlsx\" in filepath:\n",
    "        continue\n",
    "    \n",
    "    df1, df2 = process_excel(filepath)\n",
    "    dfs.extend([df1, df2])"
   ]
  },
  {
   "cell_type": "code",
   "execution_count": 6,
   "metadata": {},
   "outputs": [],
   "source": [
    "df_all = pd.concat(dfs, ignore_index=True)\n",
    "df_all.to_excel('data_all.xlsx', index=False)"
   ]
  },
  {
   "cell_type": "code",
   "execution_count": 7,
   "metadata": {},
   "outputs": [],
   "source": [
    "# 被験者IDが *-6 のデータを抽出\n",
    "df_A6 = df_all[df_all['被験者ID'].str.endswith('-6')]\n",
    "# df_A6 以外のデータを抽出\n",
    "df_others = df_all[~df_all['被験者ID'].str.endswith('-6')]"
   ]
  },
  {
   "cell_type": "code",
   "execution_count": 10,
   "metadata": {},
   "outputs": [],
   "source": [
    "df_A6.to_excel('valid.xlsx', index=False)\n",
    "df_others.to_excel('train.xlsx', index=False)"
   ]
  }
 ],
 "metadata": {
  "kernelspec": {
   "display_name": "finetune_llm",
   "language": "python",
   "name": "python3"
  },
  "language_info": {
   "codemirror_mode": {
    "name": "ipython",
    "version": 3
   },
   "file_extension": ".py",
   "mimetype": "text/x-python",
   "name": "python",
   "nbconvert_exporter": "python",
   "pygments_lexer": "ipython3",
   "version": "3.11.9"
  }
 },
 "nbformat": 4,
 "nbformat_minor": 2
}
